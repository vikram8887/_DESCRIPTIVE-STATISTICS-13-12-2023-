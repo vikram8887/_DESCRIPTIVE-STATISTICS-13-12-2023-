{
 "cells": [
  {
   "cell_type": "markdown",
   "id": "536056be",
   "metadata": {},
   "source": [
    "# DESCRIPTIVE STATISTICS"
   ]
  },
  {
   "cell_type": "markdown",
   "id": "49488288",
   "metadata": {},
   "source": [
    "* #### In Descriptive statistics, we are describing our data with the help of various representative methods using charts, graphs, tables, excel files, etc.\n",
    "* #### we describe our data in some manner and present it in a meaningful way so that it can be easily understood.\n",
    "* #### Some measures that are used to describe a data set are measures of central tendency and measures of variability or dispersion."
   ]
  },
  {
   "cell_type": "markdown",
   "id": "28270dec",
   "metadata": {},
   "source": [
    "## Types of Descriptive Statistics\n",
    "\n",
    "\n",
    "\n",
    "### 1.) measures of central tendency\n",
    "\n",
    "### 2.) measures of variability or dispersion.\n",
    "\n",
    "### 3.) Frequency distributation"
   ]
  },
  {
   "cell_type": "markdown",
   "id": "f97765bc",
   "metadata": {},
   "source": [
    "## Measures of Central Tendency\n",
    "\n",
    "### It represents the whole set of data by a single value. It gives us the location of the central points. There are three main measures of central tendency:\n",
    "\n",
    "#### Mean\n",
    "#### Mode\n",
    "#### Median"
   ]
  },
  {
   "cell_type": "markdown",
   "id": "492fb9ea",
   "metadata": {},
   "source": [
    "## Mean\n",
    " It is the sum of observations divided by the total number of observations. It is also defined as average which is the sum divided by count."
   ]
  },
  {
   "cell_type": "code",
   "execution_count": 1,
   "id": "edd190f8",
   "metadata": {},
   "outputs": [
    {
     "name": "stdout",
     "output_type": "stream",
     "text": [
      "Mean =  7.333333333333333\n"
     ]
    }
   ],
   "source": [
    "# Example for Mean\n",
    "\n",
    "import numpy as np\n",
    " \n",
    "# Sample Data\n",
    "arr = [5, 6, 11]\n",
    " \n",
    "# Mean\n",
    "mean = np.mean(arr)\n",
    " \n",
    "print(\"Mean = \", mean)"
   ]
  },
  {
   "cell_type": "markdown",
   "id": "e41bb8e1",
   "metadata": {},
   "source": [
    "## Mode\n",
    "It is the value that has the highest frequency in the given data set. The data set may have no mode if the frequency of all data points is the same. Also, we can have more than one mode if we encounter two or more data points having the same frequency."
   ]
  },
  {
   "cell_type": "markdown",
   "id": "6fa3bf2c",
   "metadata": {},
   "source": [
    "* Mode is the highest occurring observation.\n",
    "* The greatest frequency can occur at two or more different values.\n",
    "* If the data has only two modes, the data is bimodal.\n",
    "* If the data has more than two modes, the data is multimodal."
   ]
  },
  {
   "cell_type": "code",
   "execution_count": 2,
   "id": "0e94afe4",
   "metadata": {},
   "outputs": [
    {
     "name": "stdout",
     "output_type": "stream",
     "text": [
      "Mode =  ModeResult(mode=2, count=2)\n"
     ]
    }
   ],
   "source": [
    "# Example for Mode\n",
    "\n",
    "from scipy import stats\n",
    " \n",
    "# sample Data\n",
    "arr = [1, 2, 2, 3]\n",
    " \n",
    "# Mode\n",
    "mode = stats.mode(arr)\n",
    "print(\"Mode = \", mode)"
   ]
  },
  {
   "cell_type": "markdown",
   "id": "0883a2ac",
   "metadata": {},
   "source": [
    "## Median\n",
    "It is the middle value of the data set. It splits the data into two halves. If the number of elements in the data set is odd then the center element is the median and if it is even then the median would be the average of two central elements. "
   ]
  },
  {
   "cell_type": "markdown",
   "id": "11309dc2",
   "metadata": {},
   "source": [
    "* Median is the middle item in a data set arranged in ascending/descending order. \n",
    "* If there are n observations then the Median  = (n+1)/2 th observation.\n",
    "* Computational Rule.\n",
    "* If n is odd, then (n+1)/2 is an integer.\n",
    "* If n is even, then use an average of n/2 and (n/2) +1th observation."
   ]
  },
  {
   "cell_type": "code",
   "execution_count": 4,
   "id": "4672d426",
   "metadata": {},
   "outputs": [
    {
     "name": "stdout",
     "output_type": "stream",
     "text": [
      "Median =  2.5\n"
     ]
    }
   ],
   "source": [
    "# Example for Median\n",
    "\n",
    "import numpy as np\n",
    " \n",
    "# sample Data\n",
    "arr = [1, 2, 3, 4]\n",
    " \n",
    "# Median\n",
    "median = np.median(arr)\n",
    " \n",
    "print(\"Median = \", median)"
   ]
  },
  {
   "cell_type": "markdown",
   "id": "0190afd7",
   "metadata": {},
   "source": [
    "## 2.) measures of variability or dispersion."
   ]
  },
  {
   "cell_type": "markdown",
   "id": "c840dc7d",
   "metadata": {},
   "source": [
    "* Measures of Dispersion is the numbers that are used to represent the scattering of the data. These are the numbers that show the various aspects of the data spread across various parameters\n",
    "* Measures of Dispersion is a non-negative real number that gives various parameters of the data. The measure of dispersion will be zero when the dispersion of the data set will be zero. If we have dispersion in the given data then, these numbers which give the attributes of the data set are the measure of dispersion."
   ]
  },
  {
   "cell_type": "markdown",
   "id": "ce147f86",
   "metadata": {},
   "source": [
    "#### Types of Measures of Dispersion\n",
    "\n",
    "Measures of dispersion can be classified into two categories shown below:\n",
    "\n",
    "1. Absolute Measures of Dispersion\n",
    "2. Relative Measures of Dispersion\n",
    "\n",
    "* These measures of dispersion can be further divided into various categories. The measures of dispersion have various parameters and these parameters have the same unit."
   ]
  },
  {
   "cell_type": "markdown",
   "id": "64802c45",
   "metadata": {},
   "source": [
    "## Absolute Measures of Dispersion"
   ]
  },
  {
   "cell_type": "markdown",
   "id": "c2a53233",
   "metadata": {},
   "source": [
    "* These measures of dispersion are measured and expressed in the units of data themselves. For example — Meters, Dollars, Kg, etc.\n",
    "\n",
    "Some absolute measures of dispersion are\n",
    "\n",
    "(i) Range\n",
    "\n",
    "(ii) Mean deviation\n",
    "\n",
    "(iii) Standard Deviation\n",
    "\n",
    "(iv) Variance\n",
    "\n",
    "(v) Quratile Deviation"
   ]
  },
  {
   "cell_type": "markdown",
   "id": "d0266691",
   "metadata": {},
   "source": [
    "### 1. Range\n",
    "* The range of a data set is the difference between the largest and smallest data values.\n",
    "* It is the simplest measure of variability.\n",
    "* It is very sensitive to the smallest and largest data values.\n",
    "* Range = X max – X min "
   ]
  },
  {
   "cell_type": "markdown",
   "id": "d815de4f",
   "metadata": {},
   "source": [
    "### 2. Mean Deviation\n",
    "\n",
    "* Mean Deviation is the arithmetic mean of the difference between the values and their mean.\n",
    "\n",
    "* The mean deviation of a given standard distribution is the average of the deviation from the central tendency. Central Tendency can be computed using the Arithmetic Mean, Median, or Mode of the data. It is used to show how far the observations are situated from the central point of the data (the central point can be either mean, median or mode).\n",
    "\n"
   ]
  },
  {
   "cell_type": "markdown",
   "id": "c240fbca",
   "metadata": {},
   "source": [
    "### 3. Standard Deviation\n",
    "* The standard deviation of a data set is the positive square root of the variance.\n",
    "* It is measured in the same units as the data, making it more easily comparable, than the variance, to the mean.\n",
    "* If the data set is a sample, the standard deviation is denoted s.\n",
    "* If the data set is a population, the standard deviation is denoted s (sigma)."
   ]
  },
  {
   "cell_type": "markdown",
   "id": "632a709e",
   "metadata": {},
   "source": [
    "### 4. Variance\n",
    "* The variance is a measure of variability that utilizes all the data.\n",
    "* It is based on the difference between the value of each observation (xi) and the mean (x for a sample, m for a population).\n"
   ]
  },
  {
   "cell_type": "markdown",
   "id": "f3500748",
   "metadata": {},
   "source": [
    "#### The are two types of variance used in statistics,\n",
    "\n",
    "* Sample Variance\n",
    "* Population Variance"
   ]
  },
  {
   "cell_type": "markdown",
   "id": "8e7e3b18",
   "metadata": {},
   "source": [
    "* Sample Mean\n",
    "\n",
    "Sample Data: 12,18,25,69,45 \n",
    "Sample Mean: [(12+18+25+69+45)/5] = 33.80\n",
    "\n",
    "* Population Mean\n",
    "\n",
    "Population Data: 55,46,78,12,18,33,28,45,25,69,66\n",
    "Population Mean: [(55+46+78+12+18+33+28+45+25+69+66)/11)] = 43.18"
   ]
  },
  {
   "cell_type": "markdown",
   "id": "108c4770",
   "metadata": {},
   "source": [
    "# 2.) measures of variability or dispersion.\n",
    "\n",
    "\n",
    "Measures of variability are also termed measures of dispersion as it helps to gain insights about the dispersion or the spread of the observations at hand. \n",
    "\n",
    "* Range \n",
    "* Variance\n",
    "* Standard Deviation"
   ]
  },
  {
   "cell_type": "markdown",
   "id": "8140bbbf",
   "metadata": {},
   "source": [
    " ### 5.Standard Deviation\n",
    "\n",
    "* Standard deviation is the square root of the arithmetic average of the square of the deviations measured from the mean.\n",
    "\n",
    "* Standard deviation is a measure used in descriptivestatistics to understand how the data points in a set are spread out from the average (mean) value. It indicates the extent of the data’s variation and shows how far individual data points deviate from the average"
   ]
  },
  {
   "cell_type": "markdown",
   "id": "56165899",
   "metadata": {},
   "source": [
    "## Skewness\n",
    "* Skewness characterizes the degree of asymmetry of a distribution around its mean.\n",
    "\n",
    "* The concept of skewness is mainly used to understand the distribution of the data and steps taken to normalize the data for further building of machine learning models. "
   ]
  },
  {
   "cell_type": "markdown",
   "id": "e540f9ac",
   "metadata": {},
   "source": [
    "* In case of negatively skewed data, Mean<Median<Mode. This indicates, more data points are to the right of the curve where the data has very high values in large numbers.\n",
    "* In case of positively skewed data, Mode<Median<Mean. This means that more data points are to the left of the curve where the data has very low values in large numbers.\n",
    "\n",
    " \n"
   ]
  },
  {
   "cell_type": "code",
   "execution_count": null,
   "id": "5a4801b0",
   "metadata": {},
   "outputs": [],
   "source": []
  },
  {
   "cell_type": "code",
   "execution_count": null,
   "id": "31011817",
   "metadata": {},
   "outputs": [],
   "source": []
  },
  {
   "cell_type": "code",
   "execution_count": null,
   "id": "9bdf08c3",
   "metadata": {},
   "outputs": [],
   "source": []
  },
  {
   "cell_type": "code",
   "execution_count": null,
   "id": "e022afd1",
   "metadata": {},
   "outputs": [],
   "source": []
  },
  {
   "cell_type": "code",
   "execution_count": null,
   "id": "3b10f09c",
   "metadata": {},
   "outputs": [],
   "source": []
  },
  {
   "cell_type": "code",
   "execution_count": null,
   "id": "7714c16b",
   "metadata": {},
   "outputs": [],
   "source": []
  },
  {
   "cell_type": "code",
   "execution_count": null,
   "id": "dff7e85e",
   "metadata": {},
   "outputs": [],
   "source": []
  },
  {
   "cell_type": "code",
   "execution_count": null,
   "id": "be2e4339",
   "metadata": {},
   "outputs": [],
   "source": []
  },
  {
   "cell_type": "code",
   "execution_count": null,
   "id": "45a3bd84",
   "metadata": {},
   "outputs": [],
   "source": []
  },
  {
   "cell_type": "code",
   "execution_count": null,
   "id": "88a1a834",
   "metadata": {},
   "outputs": [],
   "source": []
  },
  {
   "cell_type": "code",
   "execution_count": null,
   "id": "f6a3dbd4",
   "metadata": {},
   "outputs": [],
   "source": []
  },
  {
   "cell_type": "code",
   "execution_count": null,
   "id": "d8049981",
   "metadata": {},
   "outputs": [],
   "source": []
  },
  {
   "cell_type": "code",
   "execution_count": null,
   "id": "06c14a7f",
   "metadata": {},
   "outputs": [],
   "source": []
  },
  {
   "cell_type": "code",
   "execution_count": null,
   "id": "2f0b580c",
   "metadata": {},
   "outputs": [],
   "source": []
  },
  {
   "cell_type": "code",
   "execution_count": null,
   "id": "9feb7761",
   "metadata": {},
   "outputs": [],
   "source": []
  },
  {
   "cell_type": "code",
   "execution_count": null,
   "id": "48fe1313",
   "metadata": {},
   "outputs": [],
   "source": []
  }
 ],
 "metadata": {
  "kernelspec": {
   "display_name": "Python 3 (ipykernel)",
   "language": "python",
   "name": "python3"
  },
  "language_info": {
   "codemirror_mode": {
    "name": "ipython",
    "version": 3
   },
   "file_extension": ".py",
   "mimetype": "text/x-python",
   "name": "python",
   "nbconvert_exporter": "python",
   "pygments_lexer": "ipython3",
   "version": "3.11.5"
  }
 },
 "nbformat": 4,
 "nbformat_minor": 5
}
